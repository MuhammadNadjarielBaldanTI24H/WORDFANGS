{
 "cells": [
  {
   "cell_type": "markdown",
   "id": "e22ae4b1-77f1-43ca-a55a-9ae637f12534",
   "metadata": {},
   "source": [
    "<h1>\n",
    "    Biodata\n",
    "</h1>"
   ]
  },
  {
   "cell_type": "code",
   "execution_count": 1,
   "id": "79552352-98af-439c-8e66-16acdbe5ef54",
   "metadata": {},
   "outputs": [
    {
     "name": "stdin",
     "output_type": "stream",
     "text": [
      "Masukkan Nama Lengkap Anda:  MUHAMMAD NADJARIEL BALDAN\n",
      "Masukkan TTL Anda:  17-05-2006\n",
      "Masukkan Alamat Anda:  Jl. Selakaso Kel. Babakan Kec. Cibeureum\n",
      "Masukkan Jenis Kelamin Anda:  Laki-Laki\n",
      "Masukkan Agama Anda:  Islam\n"
     ]
    },
    {
     "name": "stdout",
     "output_type": "stream",
     "text": [
      "Nama Lengkap : MUHAMMAD NADJARIEL BALDAN\n",
      "TTL : 17-05-2006\n",
      "Alamat : Jl. Selakaso Kel. Babakan Kec. Cibeureum\n",
      "Jenis Kelamin : Laki-Laki\n",
      "Agama : Islam\n"
     ]
    }
   ],
   "source": [
    "NamaLengkap = input(\"Masukkan Nama Lengkap Anda: \")\n",
    "TTL = input(\"Masukkan TTL Anda: \")\n",
    "Alamat = input(\"Masukkan Alamat Anda: \")\n",
    "JenisKelamin = input(\"Masukkan Jenis Kelamin Anda: \")\n",
    "Agama = input(\"Masukkan Agama Anda: \")\n",
    "    \n",
    "print(\"Nama Lengkap : {}\".format(NamaLengkap))\n",
    "print(\"TTL : {}\".format(TTL))\n",
    "print(\"Alamat : {}\".format(Alamat))\n",
    "print(\"Jenis Kelamin : {}\".format(JenisKelamin))\n",
    "print(\"Agama : {}\".format(Agama))"
   ]
  },
  {
   "cell_type": "markdown",
   "id": "9e1556fb-387e-4626-9b98-6fdc3d30ce04",
   "metadata": {},
   "source": [
    "<h1>\n",
    "    Kalimat\n",
    "</h1>"
   ]
  },
  {
   "cell_type": "code",
   "execution_count": 3,
   "id": "2afcc072-a19c-4d36-8924-4e85325114e4",
   "metadata": {},
   "outputs": [
    {
     "name": "stdin",
     "output_type": "stream",
     "text": [
      "Masukkan Kalimat: UNIVERSITAS NUSA PUTRA SUKABUMI\n"
     ]
    },
    {
     "name": "stdout",
     "output_type": "stream",
     "text": [
      "a. putra nusa\n",
      "b. NIVERSITAS NSA PTRA SKABMI\n",
      "c. SUKABUMI PUTRA NUSA UNIVERSITAS\n",
      "d. UNPS\n",
      "e. TAS SAPU BUMI\n"
     ]
    }
   ],
   "source": [
    "#UNIVERSITAS NUSA PUTRA SUKABUMI\n",
    "teks = input(\"Masukkan Kalimat:\")\n",
    "kata = teks.split()\n",
    "\n",
    "# a. putra nusa\n",
    "Output_a = \"{} {}\".format(kata[2].lower(), kata[1].lower())\n",
    "print(\"a.\", Output_a)\n",
    "# b. NIVERSITAS NSA PTRA SKABMI\n",
    "Output_b = \"{} {}{} {}{} {}{}{}\".format(teks[1:11], teks[12],teks[14:16], teks[17],teks[19:22], teks[23],teks[25:28],teks[29:])\n",
    "print(\"b.\", Output_b)\n",
    "# c. SUKABUMI PUTRA NUSA UNIVERSITAS\n",
    "Output_c = \"{} {} {} {}\".format(kata[3], kata[2], kata[1], kata[0])\n",
    "print(\"c.\", Output_c)\n",
    "# d. UNPS\n",
    "Output_d = \"{}{}{}{}\".format(teks[0], teks[12], teks[17], teks[23])\n",
    "print(\"d.\", Output_d)\n",
    "# e. TAS SAPU BUMI\n",
    "Output_e = \"{} {}{} {}\".format(teks[8:11], teks[14:16], teks[17:19], teks[27:])\n",
    "print(\"e.\", Output_e)"
   ]
  },
  {
   "cell_type": "code",
   "execution_count": null,
   "id": "d15216c1-b74c-45a8-8d89-459457bd6129",
   "metadata": {},
   "outputs": [],
   "source": []
  }
 ],
 "metadata": {
  "kernelspec": {
   "display_name": "Python 3 (ipykernel)",
   "language": "python",
   "name": "python3"
  },
  "language_info": {
   "codemirror_mode": {
    "name": "ipython",
    "version": 3
   },
   "file_extension": ".py",
   "mimetype": "text/x-python",
   "name": "python",
   "nbconvert_exporter": "python",
   "pygments_lexer": "ipython3",
   "version": "3.12.7"
  }
 },
 "nbformat": 4,
 "nbformat_minor": 5
}
