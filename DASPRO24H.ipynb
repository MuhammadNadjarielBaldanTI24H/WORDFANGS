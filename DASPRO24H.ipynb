{
 "cells": [
  {
   "cell_type": "code",
   "execution_count": 2,
   "id": "eef245db",
   "metadata": {},
   "outputs": [
    {
     "name": "stdout",
     "output_type": "stream",
     "text": [
      "Muhammad Nadjariel Baldan gantenk\n",
      "Selamat datang gantenk\n",
      "ini adalah urutan angka:\n",
      "1-2-3\n",
      "A-B-C\n"
     ]
    }
   ],
   "source": [
    "name = input(\"Muhammad Nadjariel Baldan \")\n",
    "\n",
    "print(\"Selamat datang\", name)\n",
    "print(\"ini adalah urutan angka:\")\n",
    "print(\"1\",end='-')\n",
    "print(\"2\",end='-')\n",
    "print(\"3\")\n",
    "print(\"A\",\"B\",\"C\",sep='-')"
   ]
  },
  {
   "cell_type": "markdown",
   "id": "2a43446d",
   "metadata": {},
   "source": [
    "<h1> String Format\n",
    "   <h1>"
   ]
  },
  {
   "cell_type": "code",
   "execution_count": 3,
   "id": "b1a0eb07",
   "metadata": {},
   "outputs": [
    {
     "name": "stdout",
     "output_type": "stream",
     "text": [
      "Isikan bilangan 1:1\n",
      "Isikan bilangan 2:10\n",
      "Hasil Penjumlahan 1 + 10 = 11\n",
      "Hasil Penjumlahan1 + 10 = 11\n"
     ]
    }
   ],
   "source": [
    "val1 = int(input(\"Isikan bilangan 1:\"))\n",
    "val2 = int(input(\"Isikan bilangan 2:\"))\n",
    "print(\"Hasil Penjumlahan\",val1,\"+\",val2,\"=\",val1+val2)\n",
    "print(\"Hasil Penjumlahan{} + {} = {}\".format (val1,val2,val1+val2))"
   ]
  },
  {
   "cell_type": "code",
   "execution_count": 1,
   "id": "5406c1da",
   "metadata": {},
   "outputs": [
    {
     "name": "stdout",
     "output_type": "stream",
     "text": [
      "Isikan Nama Awal:Muhammad\n",
      "Isikan Nama Tengah:Nadjariel\n",
      "Isikan Nama Akhir:Baldan\n",
      "Nama Lengkap: Muhammad Nadjariel Baldan\n",
      "Nama Lengkap: Nadjariel Muhammad Baldan\n",
      "Nama Lengkap:Muhammad Nadjariel Baldan\n"
     ]
    }
   ],
   "source": [
    "fName = input(\"Isikan Nama Awal:\")\n",
    "mName = input(\"Isikan Nama Tengah:\")\n",
    "lName = input(\"Isikan Nama Akhir:\")\n",
    "print(\"Nama Lengkap: {} {} {}\". format(fName,mName,lName))\n",
    "print(\"Nama Lengkap: {1} {0} {2}\".format(fName,mName,lName))\n",
    "#Menggunakan kay variable\n",
    "print(\"Nama Lengkap:{f} {m} {l}\".format (f=fName,l=lName,m=mName))"
   ]
  },
  {
   "cell_type": "code",
   "execution_count": 1,
   "id": "785d0bad",
   "metadata": {},
   "outputs": [
    {
     "name": "stdout",
     "output_type": "stream",
     "text": [
      "Isikan Kalimat:skibidi\n",
      "Karakter ke 2 adalah: k\n",
      "Karakter ke 3 dst: ibidi\n",
      "Karakter 2-4 kib\n",
      "Karakter terakhir adalah: i\n",
      "Kalimat dibalik menjadi: idibiks\n"
     ]
    }
   ],
   "source": [
    "kalimat = input(\"Isikan Kalimat:\")\n",
    "#Mencetak Karakter ke 2\n",
    "print(\"Karakter ke 2 adalah:\",kalimat[1])\n",
    "#Mencetak Karakter ke 3 sampai seterusnya\n",
    "print(\"Karakter ke 3 dst:\",kalimat[2:])\n",
    "#Mencetak Karakter ke 2 sampai ke 4\n",
    "print(\"Karakter 2-4\",kalimat[1:4])\n",
    "#Mencetak Karakter Paling Akhir\n",
    "print(\"Karakter terakhir adalah:\",kalimat[-1])\n",
    "#Reverse String\n",
    "print(\"Kalimat dibalik menjadi:\",kalimat[::-1])"
   ]
  },
  {
   "cell_type": "markdown",
   "id": "73539e0a",
   "metadata": {},
   "source": [
    "<h1>Fungsi String<h1>"
   ]
  },
  {
   "cell_type": "code",
   "execution_count": 6,
   "id": "61f79e6b",
   "metadata": {},
   "outputs": [
    {
     "ename": "SyntaxError",
     "evalue": "invalid syntax (3253701328.py, line 25)",
     "output_type": "error",
     "traceback": [
      "\u001b[1;36m  Input \u001b[1;32mIn [6]\u001b[1;36m\u001b[0m\n\u001b[1;33m    \"A Valid Email\" if findAt ! = -1 and findPeriod ! = -1\u001b[0m\n\u001b[1;37m                              ^\u001b[0m\n\u001b[1;31mSyntaxError\u001b[0m\u001b[1;31m:\u001b[0m invalid syntax\n"
     ]
    }
   ],
   "source": [
    "#Fungsi Split\n",
    "namaLengkap = \"Muhammad Nadjariel Baldan S.Kom\"\n",
    "nama = namaLengkap.split(' ')\n",
    "print(\"Nama Awal :\",nama [0])\n",
    "print(\"Nama Akhir:\", nama[1])\n",
    "print(\"Gelar:\", nama[2])\n",
    "\n",
    "#Fungsi Find\n",
    "#Jika ketemu,Mengembalikan indeks dari posisi karakter yang dicari\n",
    "#Jika tidak akan menghasilkan -1\n",
    "nomorPlat = \"F123GR\"\n",
    "cari = nomorPlat.find(\"F\")\n",
    "print(cari)\n",
    "\n",
    "#Buatlah program untuk memvalidasi apakah email valid atau tidak \n",
    "#Valid -> mempunyai tanda @ sama . => adigmail.com\n",
    "#adi.nu@gmail.com => Tidak valid\n",
    "#Posisi @ sebelah kiri dari posisi .\n",
    "\n",
    "email = input(\"Isikan email anda:\")\n",
    "findAt = email.find(\"@\")\n",
    "findPeriod = email.find(\".\")\n",
    "\n",
    "validation =\n",
    "\"A Valid Email\" if findAt ! = -1 and findPeriod ! = -1\n",
    "and findAt <findPeriod else \"Not A Valid Email\">\n",
    "print(validation)"
   ]
  },
  {
   "cell_type": "code",
   "execution_count": null,
   "id": "b1ceb2b7",
   "metadata": {},
   "outputs": [
    {
     "name": "stdout",
     "output_type": "stream",
     "text": [
      "Nilai Acak Pecahan: 0.7458453304281614\n",
      "Nilai Acak antar 0-100:89\n",
      "Sekarang bulan:Mar\n",
      "Sekarang hari:['Thu', '4']\n",
      "Berapakah hasil 0.7458453304281614+58?\n"
     ]
    }
   ],
   "source": [
    "#Fungsi String random bilangan \n",
    "from random import random\n",
    "nilai = random ()\n",
    "#Fstring\n",
    "print(f\"Nilai Acak Pecahan: {nilai}\")\n",
    "\n",
    "from random import randint \n",
    "intNilai = randint (0,100)\n",
    "print(f\"Nilai Acak antar 0-100:{intNilai}\")\n",
    "\n",
    "from random import choice\n",
    "month = [\"Jan\",\"Feb\",\"Mar\",\"Apr\",\"May\",\"Jun\", \"Jul\",\"Aug\", \"Sep\"]\n",
    "day = [[\"Mon\",\"1\"],[\"Tue\",\"2\"],[\"Wed\",\"3\"],[\"Thu\",\"4\"],[\"Fri\",\"5\"],[\"Sat\",\"6\"]]\n",
    "cDay = choice(day)\n",
    "cMonth = choice(month)\n",
    "print(f\"Sekarang bulan:{cMonth}\")\n",
    "print(f\"Sekarang hari:{cDay}\")\n",
    "\n",
    "nilai1 = randint(0,100)\n",
    "nilai2 = randint(0,100)\n",
    "print(f\"Berapakah hasil {nilai}+{nilai2}?\")\n",
    "answer = input (\"Isikan Jawaban Anda\")\n",
    "check = \"Anda Benar!!\" if nilai1 + nilai2 == answer else \"Anda Salah\"\n",
    "print(check)"
   ]
  },
  {
   "cell_type": "code",
   "execution_count": null,
   "id": "a598182c",
   "metadata": {},
   "outputs": [
    {
     "name": "stdout",
     "output_type": "stream",
     "text": [
      "Apa arti dari (cKamus0)?\n"
     ]
    }
   ],
   "source": [
    "from random import choice\n",
    "\n",
    "kamus = [[\"Eat\",\"Makan\"],[\"Drink\",\"Minum\"],[\"Reading\",\"Membaca\"]]\n",
    "cKamus = choice(kamus)\n",
    "print(f\"Apa arti dari (cKamus{0})?\")\n",
    "jawab = input(\"Isikan Jawaban:\")\n",
    "check = \"Anda Benar!!\" if jawab.lower() == cKamus [1].lower() else \"Anda Salah !!\"\n",
    "print(check)"
   ]
  },
  {
   "cell_type": "code",
   "execution_count": null,
   "id": "1a954c42",
   "metadata": {},
   "outputs": [],
   "source": []
  }
 ],
 "metadata": {
  "kernelspec": {
   "display_name": "Python 3 (ipykernel)",
   "language": "python",
   "name": "python3"
  },
  "language_info": {
   "codemirror_mode": {
    "name": "ipython",
    "version": 3
   },
   "file_extension": ".py",
   "mimetype": "text/x-python",
   "name": "python",
   "nbconvert_exporter": "python",
   "pygments_lexer": "ipython3",
   "version": "3.9.12"
  }
 },
 "nbformat": 4,
 "nbformat_minor": 5
}
