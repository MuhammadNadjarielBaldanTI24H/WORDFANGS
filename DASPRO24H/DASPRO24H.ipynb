{
 "cells": [
  {
   "cell_type": "markdown",
   "id": "f42e940a",
   "metadata": {},
   "source": [
    "<center><img src=\"https://algorit.ma/wp-content/uploads/2022/02/Python-Logo-1030x644.png\" width=\"200\"></center><br>\n",
    "Pada jupyter notebooks jenis <b>cell</b> terbagi menjadi \n",
    "</ol>\n",
    "<Li>M (Mark Down) -> M</Li>\n",
    "<Li>Y (Code) -> Y</Li>\n",
    "</ol>\n",
    "<hr>"
   ]
  },
  {
   "cell_type": "markdown",
   "id": "8f4b973a",
   "metadata": {},
   "source": [
    "Cara Menambahkan </b>cell</b> terbagi menjadi 2 :\n",
    "</ul>\n",
    "     <Li>A -(Above) Menambahkan diatas cell aktif</Li>\n",
    "     <Li>B -(Below) Menambahkan dibawah cell aktif</Li>\n",
    "</ul>\n",
    "<table>\n",
    "     <tr>\n",
    "         <td>Perintah</td>\n",
    "         <td>Keterangan</td>\n",
    "     </tr>\n",
    "     <tr>\n",
    "         <td>ctrl + enter</td>\n",
    "         <td>Running program dengan fokus di cell aktif</td>\n",
    "     </tr>\n",
    "     <tr>\n",
    "         <td> shift + enter </td>\n",
    "         <td>Running program dengan fokus di cell berikutnya</td>\n",
    "     </tr>\n",
    "</table>"
   ]
  },
  {
   "cell_type": "code",
   "execution_count": 7,
   "id": "d87b3bd7",
   "metadata": {},
   "outputs": [
    {
     "name": "stdout",
     "output_type": "stream",
     "text": [
      "python is very easy\n",
      "4\n"
     ]
    },
    {
     "data": {
      "text/plain": [
       "6"
      ]
     },
     "execution_count": 7,
     "metadata": {},
     "output_type": "execute_result"
    }
   ],
   "source": [
    " # this is comment \n",
    "print (\"python is very easy\")\n",
    "data=\"4\"\n",
    "print(data)\n",
    "data\n",
    "3+3"
   ]
  },
  {
   "cell_type": "code",
   "execution_count": null,
   "id": "c70cab6f",
   "metadata": {},
   "outputs": [],
   "source": []
  }
 ],
 "metadata": {
  "kernelspec": {
   "display_name": "Python 3 (ipykernel)",
   "language": "python",
   "name": "python3"
  },
  "language_info": {
   "codemirror_mode": {
    "name": "ipython",
    "version": 3
   },
   "file_extension": ".py",
   "mimetype": "text/x-python",
   "name": "python",
   "nbconvert_exporter": "python",
   "pygments_lexer": "ipython3",
   "version": "3.9.12"
  }
 },
 "nbformat": 4,
 "nbformat_minor": 5
}
