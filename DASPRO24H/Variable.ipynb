{
 "cells": [
  {
   "cell_type": "code",
   "execution_count": 3,
   "id": "9d96cf3e-e30a-4515-ae9c-9caf5853ac37",
   "metadata": {},
   "outputs": [
    {
     "name": "stdout",
     "output_type": "stream",
     "text": [
      "Nama : Wawan\n",
      "Alamat : Jl.Cisaat\n",
      "Umur : 32\n",
      "Nilai Pemrograman: 85.7\n",
      "Status Menikah: True\n",
      "Propinsi: 7413413\n"
     ]
    }
   ],
   "source": [
    "name = \"Wawan\"\n",
    "address,province = \"Jl.Cisaat\",\"7413413\"\n",
    "age = 32\n",
    "scorePython = 85.7\n",
    "isMarried = True\n",
    "\n",
    "print(\"Nama :\", name)\n",
    "print(\"Alamat :\",address)\n",
    "print(\"Umur :\",age)\n",
    "print(\"Nilai Pemrograman:\",scorePython)\n",
    "print(\"Status Menikah:\",isMarried)\n",
    "print(\"Propinsi:\",province)"
   ]
  },
  {
   "cell_type": "code",
   "execution_count": 2,
   "id": "cd1bf428-f4ee-4b0e-a2fa-d9a4d6a9b873",
   "metadata": {},
   "outputs": [
    {
     "name": "stdout",
     "output_type": "stream",
     "text": [
      "Tipe data <name> <class 'str'>\n",
      "Tipe data<address> <class 'str'>\n",
      "Tipe data<age> <class 'int'>\n",
      "Tipe data<scorePython> <class 'float'>\n",
      "Tipe data<isMarried> <class 'bool'>\n"
     ]
    }
   ],
   "source": [
    "print(\"Tipe data <name>\", type(name))\n",
    "print(\"Tipe data<address>\",type(address))\n",
    "print(\"Tipe data<age>\", type(age))\n",
    "print(\"Tipe data<scorePython>\", type(scorePython))\n",
    "print(\"Tipe data<isMarried>\", type(isMarried))"
   ]
  },
  {
   "cell_type": "code",
   "execution_count": 5,
   "id": "baa5c3aa-e466-4633-b035-1b5aafac9248",
   "metadata": {},
   "outputs": [
    {
     "name": "stdout",
     "output_type": "stream",
     "text": [
      "7413415-7413413.0-True\n"
     ]
    }
   ],
   "source": [
    "#Casting / Konversi Tipe Data \n",
    "#1. String ke (int,float,boolean)\n",
    "strToInt = int(province)\n",
    "strToFloat = float(province)\n",
    "strToBool = bool(province)\n",
    "print(strToInt + 2,strToFloat,strToBool, sep=\"-\")"
   ]
  },
  {
   "cell_type": "code",
   "execution_count": 8,
   "id": "4ab46c70-9df8-419e-984d-5b97d574b947",
   "metadata": {},
   "outputs": [
    {
     "name": "stdout",
     "output_type": "stream",
     "text": [
      "32-32.0-True\n"
     ]
    }
   ],
   "source": [
    "#2. Int ke (str,float,boolean)\n",
    "intToStr = str(age)\n",
    "intToFloat = float(age)\n",
    "intToBool = bool(age)\n",
    "print(intToStr,intToFloat,intToBool, sep=\"-\")"
   ]
  },
  {
   "cell_type": "code",
   "execution_count": 11,
   "id": "6c73d2dc-4a73-44af-b581-34663106d363",
   "metadata": {},
   "outputs": [
    {
     "name": "stdout",
     "output_type": "stream",
     "text": [
      "85.7-85-True\n"
     ]
    }
   ],
   "source": [
    "floatToStr = str(scorePython)\n",
    "floatToInt = int(scorePython)\n",
    "floatToBool = bool(scorePython)\n",
    "print(floatToStr,floatToInt,floatToBool, sep=\"-\")\n"
   ]
  },
  {
   "cell_type": "code",
   "execution_count": 12,
   "id": "6ba2107b-2062-421d-965c-ea3af3ff9d7e",
   "metadata": {},
   "outputs": [
    {
     "name": "stdout",
     "output_type": "stream",
     "text": [
      "Nilai desimal : 500\n",
      "Nilai biner: 10\n",
      "Nilai octal: 255\n",
      "Nilai hexa 1091\n",
      "Nilai biner dari: 500 : 0b111110100\n",
      "Nilai octal dari: 500 : 0o764\n",
      "Nilai hexa dari: 500 : 0x1f4\n"
     ]
    }
   ],
   "source": [
    "desimal = 500\n",
    "biner = 0b1010 #10\n",
    "octal = 0o377 #255\n",
    "hexa = 0x443 #1091\n",
    "\n",
    "print(\"Nilai desimal :\", desimal)\n",
    "print(\"Nilai biner:\", biner)\n",
    "print(\"Nilai octal:\", octal)\n",
    "print(\"Nilai hexa\", hexa)\n",
    "\n",
    "print(\"Nilai biner dari:\", desimal, \":\", bin(desimal))\n",
    "print(\"Nilai octal dari:\", desimal, \":\", oct (desimal))\n",
    "print(\"Nilai hexa dari:\", desimal, \":\", hex(desimal))"
   ]
  },
  {
   "cell_type": "code",
   "execution_count": 19,
   "id": "76b99f13-2b3f-409e-85a9-a717312e1954",
   "metadata": {},
   "outputs": [
    {
     "name": "stdout",
     "output_type": "stream",
     "text": [
      "S\n",
      "8\n",
      "I\n"
     ]
    }
   ],
   "source": [
    "city = \"SUKABUMI\"\n",
    "length = len(city)\n",
    "print(city[0])\n",
    "print(length)\n",
    "print(city[length - 1])"
   ]
  },
  {
   "cell_type": "code",
   "execution_count": 41,
   "id": "48f779fc-0d5b-4e87-8f52-ed0980764bd5",
   "metadata": {},
   "outputs": [
    {
     "name": "stdout",
     "output_type": "stream",
     "text": [
      "['SUKABUMI', 'BANDUNG', 'BOGOR', 'JAKARTA']\n",
      "SUKABUMI\n",
      "JAKARTA\n",
      "J\n",
      "A\n",
      "['BALI', 'BANDUNG', 'BOGOR', 'JAKARTA']\n",
      "('Wawan', 'Wiwin', 'Wowon')\n",
      "Wawan\n",
      "{'name': 'Wahyu', 'age': 25, 'address': {'street': 'Cikakak', 'number': 7, 'province': 'Java'}, 'isMarried': True, 'hobbies': ['Basketball']}\n",
      "25\n",
      "Java\n",
      "Basketball\n",
      "Java\n",
      "['BasketballLearning']\n"
     ]
    }
   ],
   "source": [
    "#Tipe Data Koleksi\n",
    "cities = [\"SUKABUMI\", \"BANDUNG\", \"BOGOR\", \"JAKARTA\"]\n",
    "length = len(cities)\n",
    "print(cities)\n",
    "print(cities[0])\n",
    "print(cities[length - 1])\n",
    "print(cities[length - 1] [0])\n",
    "print(cities[length - 1] [len(cities[length - 1])-1])\n",
    "cities [0] = \"BALI\"\n",
    "print(cities)\n",
    "\n",
    "names = (\"Wawan\", \"Wiwin\", \"Wowon\")\n",
    "print(names)\n",
    "print(names[0])\n",
    "\n",
    "studentData = {\n",
    "    \"name\" : \"Wahyu\",\n",
    "    \"age\" : 25,\n",
    "    \"address\" : {\n",
    "        \"street\" : \"Cikakak\",\n",
    "        \"number\" : 7,\n",
    "        \"province\" : \"Java\"\n",
    "    },\n",
    "    \"isMarried\" : True,\n",
    "    \"hobbies\" : [\"Basketball\"]\n",
    "}\n",
    "print(studentData)\n",
    "print(studentData[\"age\"])\n",
    "print(studentData[\"address\"][\"province\"])\n",
    "print(studentData[\"hobbies\"][0])\n",
    "\n",
    "studentList = [\n",
    "    {\n",
    "        \"name\" : \"Wahyu\",\n",
    "        \"age\" : 25,\n",
    "        \"address\" : {\n",
    "        \"street\" : \"Cikakak\",\n",
    "            \"number\" : 7,\n",
    "            \"province\" : \"Java\"\n",
    "        },\n",
    "        \"isMarried\" : True,\n",
    "        \"hobbies\" : [\"Basketball\" \"Learning\"]\n",
    "    },\n",
    "    {\n",
    "        \"name\" : \"Isep\",\n",
    "        \"age\" : 32,\n",
    "        \"address\" : {\n",
    "            \"street\" : \"Ciberuk\",\n",
    "            \"number\" : 9,\n",
    "            \"province\" : \"Java\"\n",
    "        }, \n",
    "        \"isMarried\" : False,\n",
    "        \"hobbies\" : [\"Football\" \"Party\"]\n",
    "    }\n",
    "]\n",
    "\n",
    "print(studentList[1][\"address\"][\"province\"])\n",
    "print(studentList[0][\"hobbies\"])"
   ]
  },
  {
   "cell_type": "code",
   "execution_count": 48,
   "id": "678dce89-8011-4048-8529-3a9a4c918211",
   "metadata": {},
   "outputs": [
    {
     "name": "stdout",
     "output_type": "stream",
     "text": [
      "{'Name': 'Andi', 'Age': '30', 'Status': True}\n",
      "{'Name': 'Rudi', 'Address': 'Bogor'}\n",
      "{'Name': 'Tiger', 'Type': 'Mamalia'}\n",
      "{'Name': 'Crocodile', 'Type': 'Reptile'}\n"
     ]
    }
   ],
   "source": [
    "#konversi dictionary\n",
    "\n",
    "list_list = [[\"Name\",\"Andi\"],[\"Age\",\"30\"],[\"Status\", True]]\n",
    "dictListStudent = dict(list_list)\n",
    "print(dictListStudent)\n",
    "\n",
    "list_tuple = [(\"Name\",\"Rudi\"),(\"Address\",\"Bogor\")]\n",
    "dictTupleStudent = dict(list_tuple)\n",
    "print(dictTupleStudent)\n",
    "\n",
    "tuple_list = ([\"Name\",\"Tiger\"],[\"Type\", \"Mamalia\"])\n",
    "dictListAnimal = dict(tuple_list)\n",
    "print(dictListAnimal)\n",
    "\n",
    "tuple_tuple = ((\"Name\",\"Crocodile\"),(\"Type\", \"Reptile\"))\n",
    "dictTupleAnimal = dict(tuple_tuple)\n",
    "print(dictTupleAnimal)"
   ]
  },
  {
   "cell_type": "code",
   "execution_count": null,
   "id": "0ed6fce0-f407-4b35-83f9-15699e49c65e",
   "metadata": {},
   "outputs": [],
   "source": []
  }
 ],
 "metadata": {
  "kernelspec": {
   "display_name": "Python 3 (ipykernel)",
   "language": "python",
   "name": "python3"
  },
  "language_info": {
   "codemirror_mode": {
    "name": "ipython",
    "version": 3
   },
   "file_extension": ".py",
   "mimetype": "text/x-python",
   "name": "python",
   "nbconvert_exporter": "python",
   "pygments_lexer": "ipython3",
   "version": "3.12.7"
  }
 },
 "nbformat": 4,
 "nbformat_minor": 5
}
